{
 "cells": [
  {
   "cell_type": "markdown",
   "metadata": {},
   "source": [
    "# [Tensorflow를 활용한 deep learning 이해] \n",
    "---\n",
    "# <font color=blue>Python basics</font>"
   ]
  },
  {
   "cell_type": "markdown",
   "metadata": {},
   "source": [
    "Copyright (C) Data Science & Artificial Intelligence Laboratory, Seoul National University. This material is for educational uses only. Some contents are based on the material provided by other paper/book authors and may be copyrighted by them. Written by Seil Lee, May 2018"
   ]
  },
  {
   "cell_type": "markdown",
   "metadata": {},
   "source": [
    "---\n",
    "## 1. Hello, world\n",
    "The starting point of all programming languages"
   ]
  },
  {
   "cell_type": "code",
   "execution_count": 1,
   "metadata": {},
   "outputs": [
    {
     "name": "stdout",
     "output_type": "stream",
     "text": [
      "Hello, world!\n",
      "Hello, world!\n",
      "Hello, world!\n",
      "Hello, world!\n"
     ]
    }
   ],
   "source": [
    "print('Hello, world!')\n",
    "print(\"Hello, world!\")\n",
    "\n",
    "print('Hello,' , 'world!')\n",
    "print('Hello,' + ' ' + 'world!')"
   ]
  },
  {
   "cell_type": "markdown",
   "metadata": {},
   "source": [
    "---\n",
    "## 2. List and dictionary\n",
    "### 2.1 List\n",
    "- Creation"
   ]
  },
  {
   "cell_type": "code",
   "execution_count": 16,
   "metadata": {},
   "outputs": [
    {
     "name": "stdout",
     "output_type": "stream",
     "text": [
      "[1, 2, 3, 4, 5]\n",
      "A string is also a list\n",
      "[]\n",
      "5\n"
     ]
    }
   ],
   "source": [
    "myList_1 = [1,2,3,4,5]\n",
    "myList_2 = 'A string is also a list'\n",
    "# Empty lists\n",
    "myList_3 = []\n",
    "myList_4 = list()\n",
    "\n",
    "print(myList_1)\n",
    "print(myList_2)\n",
    "print(myList_3)\n",
    "print(len(myList_1))"
   ]
  },
  {
   "cell_type": "markdown",
   "metadata": {},
   "source": [
    "- Merging and indexing"
   ]
  },
  {
   "cell_type": "code",
   "execution_count": 17,
   "metadata": {},
   "outputs": [
    {
     "name": "stdout",
     "output_type": "stream",
     "text": [
      "[1, 2, 3, 4, 5, 6, 7, 8, 9, 10]\n",
      "1\n",
      "10\n",
      "ring\n"
     ]
    }
   ],
   "source": [
    "myList_3 = myList_1 + [6,7,8,9,10]\n",
    "myList_4 = myList_2[4:8]\n",
    "\n",
    "print(myList_3)\n",
    "print(myList_3[0])\n",
    "print(myList_3[-1])\n",
    "print(myList_4)"
   ]
  },
  {
   "cell_type": "markdown",
   "metadata": {},
   "source": [
    "### 2.2 Dictionary\n",
    "- Creation"
   ]
  },
  {
   "cell_type": "code",
   "execution_count": 18,
   "metadata": {},
   "outputs": [],
   "source": [
    "myDict_1 = {'key_a':'value_1', 'key_b':'value_2'}\n",
    "myDict_2 = {'a':1, 'b':2, 'c':3, 'd':4, 'e':5}\n",
    "# Empty Dictionaies\n",
    "myDict_3 = {}\n",
    "myDict_4 = dict()"
   ]
  },
  {
   "cell_type": "markdown",
   "metadata": {},
   "source": [
    "- Usage"
   ]
  },
  {
   "cell_type": "code",
   "execution_count": 19,
   "metadata": {},
   "outputs": [
    {
     "name": "stdout",
     "output_type": "stream",
     "text": [
      "dict_keys(['key_a', 'key_b', 'key_c'])\n",
      "dict_values([1, 2, 3, 4, 5])\n",
      "value_3\n",
      "3\n"
     ]
    }
   ],
   "source": [
    "myDict_1['key_c']='value_3'\n",
    "print(myDict_1.keys())\n",
    "print(myDict_2.values())\n",
    "print(myDict_1['key_c'])\n",
    "print(myDict_2['c'])"
   ]
  },
  {
   "cell_type": "markdown",
   "metadata": {},
   "source": [
    "***\n",
    "## 3. Loops/control flow and indentation\n",
    "### 3.1 For loop"
   ]
  },
  {
   "cell_type": "code",
   "execution_count": 20,
   "metadata": {},
   "outputs": [
    {
     "name": "stdout",
     "output_type": "stream",
     "text": [
      "The 1st for-loop:\n",
      "1\n",
      "2\n",
      "3\n",
      "4\n",
      "5\n",
      "\n",
      "The 2nd for-loop:\n",
      "1\n",
      "2\n",
      "3\n",
      "4\n",
      "5\n",
      "\n",
      "The 3rd for-loop:\n",
      "1\n",
      "4\n",
      "9\n",
      "16\n",
      "25\n"
     ]
    }
   ],
   "source": [
    "print('The 1st for-loop:')\n",
    "for eachone in myList_1:\n",
    "    print(eachone)\n",
    "\n",
    "print()\n",
    "print('The 2nd for-loop:')\n",
    "for i in range(len(myList_1)):\n",
    "    print(myList_1[i])\n",
    "\n",
    "# List comprehension\n",
    "squreOfEachone = [one*one for one in myList_1]\n",
    "\n",
    "print()\n",
    "print('The 3rd for-loop:')\n",
    "for eachone in squreOfEachone:\n",
    "    print(eachone)"
   ]
  },
  {
   "cell_type": "markdown",
   "metadata": {},
   "source": [
    "### 3.2 If statements"
   ]
  },
  {
   "cell_type": "code",
   "execution_count": 21,
   "metadata": {},
   "outputs": [
    {
     "name": "stdout",
     "output_type": "stream",
     "text": [
      "True case\n",
      "\n",
      "1:ODD\n",
      "2:EVEN\n",
      "3:ODD\n",
      "4:EVEN\n",
      "5:ODD\n",
      "6:EVEN\n",
      "7:ODD\n",
      "8:EVEN\n",
      "9:ODD\n",
      "10:EVEN\n"
     ]
    }
   ],
   "source": [
    "if (True) :\n",
    "    print('True case')\n",
    "else:\n",
    "    print('False case')\n",
    "\n",
    "print()\n",
    "for i in range(1,100):\n",
    "    print(str(i)+':',end='')\n",
    "    if i % 2 == 0:\n",
    "        print('EVEN')\n",
    "    elif i % 2 == 1:\n",
    "        print('ODD')\n",
    "    if i == 10:\n",
    "        break\n",
    "    else:\n",
    "        continue"
   ]
  },
  {
   "cell_type": "markdown",
   "metadata": {},
   "source": [
    "---\n",
    "## 4. Functions\n",
    "- Defining a function"
   ]
  },
  {
   "cell_type": "code",
   "execution_count": 22,
   "metadata": {},
   "outputs": [],
   "source": [
    "def printList(theList):\n",
    "    for one in theList:\n",
    "        print(one, end=' ')\n",
    "    print()\n",
    "\n",
    "def mySqr(n):\n",
    "    return n*n\n",
    "\n",
    "def sqrList(l):\n",
    "    return [i*i for i in l]"
   ]
  },
  {
   "cell_type": "markdown",
   "metadata": {},
   "source": [
    "- Calling a function"
   ]
  },
  {
   "cell_type": "code",
   "execution_count": 23,
   "metadata": {},
   "outputs": [
    {
     "name": "stdout",
     "output_type": "stream",
     "text": [
      "1 2 3 4 5 \n",
      "1 4 9 16 25 \n",
      "1 4 9 16 25 \n"
     ]
    }
   ],
   "source": [
    "printList(myList_1)\n",
    "printList([mySqr(i) for i in myList_1])\n",
    "printList(sqrList(myList_1))"
   ]
  },
  {
   "cell_type": "markdown",
   "metadata": {},
   "source": [
    "---\n",
    "## 5. Class\n",
    "- Defining a class"
   ]
  },
  {
   "cell_type": "code",
   "execution_count": 24,
   "metadata": {},
   "outputs": [],
   "source": [
    "class Circle :\n",
    "    pi = 3.141592\n",
    "    def __init__(self, radius):\n",
    "        self.radius = radius\n",
    "    def setRadius(self,r):\n",
    "        self.radius = r\n",
    "    def getRadius(self):\n",
    "        return self.radius\n",
    "    def getArea(self):\n",
    "        area = self.radius*self.radius*Circle.pi\n",
    "        return area"
   ]
  },
  {
   "cell_type": "markdown",
   "metadata": {},
   "source": [
    "- Referencing a object"
   ]
  },
  {
   "cell_type": "code",
   "execution_count": 25,
   "metadata": {},
   "outputs": [
    {
     "name": "stdout",
     "output_type": "stream",
     "text": [
      "10\n",
      "314.1592\n",
      "1\n",
      "3.141592\n"
     ]
    }
   ],
   "source": [
    "a = Circle(10)\n",
    "b = Circle(1)\n",
    "print(a.getRadius())\n",
    "print(a.getArea())\n",
    "print(b.getRadius())\n",
    "print(b.getArea())"
   ]
  },
  {
   "cell_type": "markdown",
   "metadata": {},
   "source": [
    "---\n",
    "# <font color=blue>TensorFlow basics</font>\n",
    "### Some helpful tutorials and references for TensorFlow Basics:\n",
    "- [1] TensorFlow official tutorials. [[link]](https://www.tensorflow.org/get_started/get_started)\n",
    "- [1] TensorFlow official tutorials: Graphs and Sessions. [[link]](https://www.tensorflow.org/programmers_guide/graphs)\n",
    "- [2] TensorFlow official tutorials: Saving and Restore. [[link]](https://www.tensorflow.org/programmers_guide/saved_model)\n",
    "- [3] TensorFlow official tutorials: Exporting and Importing a MetaGraph. [[link]](https://www.tensorflow.org/api_guides/python/meta_graph)\n",
    "- [4] Danijar Hafner. \"Structing Your TensorFlow Models\" [[link]](https://danijar.com/structuring-your-tensorflow-models/)"
   ]
  },
  {
   "cell_type": "markdown",
   "metadata": {},
   "source": [
    "---\n",
    "## 1. Tensor\n",
    "- **scalar** : <br>\n",
    "just a single number\n",
    "- **vector** : <br>\n",
    "an array of numbers arranged in order\n",
    "- **matrix** : <br>\n",
    "a 2-D array of numbers\n",
    "- **tensor** : <br>\n",
    "a multidimensional array of numbers\n",
    "\n",
    "![tensor](res/tensor.png)"
   ]
  },
  {
   "cell_type": "markdown",
   "metadata": {},
   "source": [
    "---\n",
    "## 2. Numpy and TensorFlow\n",
    "- TensorFlow and Numpy are quite similar (N-d array libraries)\n",
    "- TensorFlow computes derivatives automatically\n",
    "- TensorFlow requires explicit evaluation"
   ]
  },
  {
   "cell_type": "code",
   "execution_count": 1,
   "metadata": {},
   "outputs": [],
   "source": [
    "import numpy as np\n",
    "import tensorflow as tf\n",
    "tf.InteractiveSession()\n",
    "a_np = np.zeros((2,2))\n",
    "a_tf = tf.zeros((2,2))\n",
    "b_np = np.ones((2,2))\n",
    "b_tf = tf.convert_to_tensor(b_np)"
   ]
  },
  {
   "cell_type": "code",
   "execution_count": 2,
   "metadata": {},
   "outputs": [
    {
     "name": "stdout",
     "output_type": "stream",
     "text": [
      "[[0. 0.]\n",
      " [0. 0.]]\n",
      "Tensor(\"zeros:0\", shape=(2, 2), dtype=float32)\n",
      "[[0. 0.]\n",
      " [0. 0.]]\n",
      "[[1. 1.]\n",
      " [1. 1.]]\n"
     ]
    }
   ],
   "source": [
    "print(a_np)\n",
    "print(a_tf)\n",
    "print(a_tf.eval())\n",
    "print(b_tf.eval())"
   ]
  },
  {
   "cell_type": "markdown",
   "metadata": {},
   "source": [
    "- A Session object encapsulates the environment in which Tensor objects are evaluated"
   ]
  },
  {
   "cell_type": "code",
   "execution_count": 11,
   "metadata": {
    "scrolled": true
   },
   "outputs": [
    {
     "name": "stdout",
     "output_type": "stream",
     "text": [
      "[[0. 0.]\n",
      " [0. 0.]]\n",
      "[[0. 0.]\n",
      " [0. 0.]]\n"
     ]
    }
   ],
   "source": [
    "with tf.Session() as sess:\n",
    "    print(sess.run(a_tf))\n",
    "    print(a_tf.eval())"
   ]
  },
  {
   "cell_type": "markdown",
   "metadata": {},
   "source": [
    "![npvstf](res/nptf.PNG)"
   ]
  },
  {
   "cell_type": "markdown",
   "metadata": {},
   "source": [
    "---\n",
    "## 3. Computation Graph\n",
    "- **Artificial neural networks and computational graph**\n",
    "![ann](res/mlp.png)\n",
    "<center>< Multilayer perceptron \\></center>\n",
    "![perceptron](res/perceptron.PNG)\n",
    "<center>< Perceptron \\></center>\n",
    "![comgraph](res/perceptron_atom.PNG)\n",
    "<center>< Computational graph \\></center>"
   ]
  },
  {
   "cell_type": "markdown",
   "metadata": {},
   "source": [
    "- TensorFlow programs are usually structured into\n",
    " 1. **Construction phase** : assembles a graph\n",
    " 2. **Execution phase** : uses a session to execute ops in the graph"
   ]
  },
  {
   "cell_type": "markdown",
   "metadata": {},
   "source": [
    "---\n",
    "## 4. Variables\n",
    "- When you train a model you use variables to hold and update parameters"
   ]
  },
  {
   "cell_type": "code",
   "execution_count": 4,
   "metadata": {},
   "outputs": [
    {
     "name": "stdout",
     "output_type": "stream",
     "text": [
      "[[1. 1.]\n",
      " [1. 1.]]\n",
      "[[ 1.5883747  1.0374908]\n",
      " [-0.6704635  0.6909231]]\n"
     ]
    }
   ],
   "source": [
    "W1 = tf.ones((2,2))\n",
    "W2 = tf.Variable(tf.random_normal((2,2)), name='weight')\n",
    "with tf.Session() as sess:\n",
    "    print(sess.run(W1))\n",
    "    sess.run(tf.global_variables_initializer())\n",
    "    print(sess.run(W2))"
   ]
  },
  {
   "cell_type": "code",
   "execution_count": 5,
   "metadata": {},
   "outputs": [
    {
     "name": "stdout",
     "output_type": "stream",
     "text": [
      "0\n",
      "1\n",
      "2\n",
      "3\n"
     ]
    }
   ],
   "source": [
    "state = tf.Variable(0, name='counter')\n",
    "new_val = tf.add(state, tf.constant(1))\n",
    "update = tf.assign(state, new_val)\n",
    "with tf.Session() as sess:\n",
    "    sess.run(tf.global_variables_initializer())\n",
    "    print(sess.run(state))\n",
    "    for _ in range(3):\n",
    "        sess.run(update)\n",
    "        print(sess.run(state))"
   ]
  },
  {
   "cell_type": "markdown",
   "metadata": {},
   "source": [
    "![tfmul](res/mul.PNG)"
   ]
  },
  {
   "cell_type": "code",
   "execution_count": 5,
   "metadata": {},
   "outputs": [
    {
     "name": "stdout",
     "output_type": "stream",
     "text": [
      "[21.0, 7.0]\n"
     ]
    }
   ],
   "source": [
    "input1 = tf.constant(3.0)\n",
    "input2 = tf.constant(2.0)\n",
    "input3 = tf.constant(5.0)\n",
    "intermed = tf.add(input2, input3)\n",
    "mul = tf.multiply(input1, intermed)\n",
    "with tf.Session() as sess:\n",
    "    result = sess.run([mul, intermed])\n",
    "    print(result)"
   ]
  },
  {
   "cell_type": "markdown",
   "metadata": {},
   "source": [
    "---\n",
    "## 5. Placeholders\n",
    "- Dummy nodes that provide entry points for data to computational graph\n",
    "- **feed_dict** is a python dictionary mapping that feeds data into computational graph(tf.placeholder)"
   ]
  },
  {
   "cell_type": "code",
   "execution_count": 6,
   "metadata": {},
   "outputs": [
    {
     "name": "stdout",
     "output_type": "stream",
     "text": [
      "[14.]\n"
     ]
    }
   ],
   "source": [
    "input1 = tf.placeholder(tf.float32)\n",
    "input2 = tf.placeholder(tf.float32)\n",
    "output = tf.multiply(input1, input2)\n",
    "with tf.Session() as sess:\n",
    "    print(sess.run(output, feed_dict={input1:[7.], input2:[2.0]}))"
   ]
  },
  {
   "cell_type": "markdown",
   "metadata": {},
   "source": [
    "---\n",
    "## 6. Linear Regression"
   ]
  },
  {
   "cell_type": "code",
   "execution_count": 1,
   "metadata": {},
   "outputs": [
    {
     "data": {
      "text/plain": [
       "<matplotlib.collections.PathCollection at 0x7f9bd94cef60>"
      ]
     },
     "execution_count": 1,
     "metadata": {},
     "output_type": "execute_result"
    },
    {
     "data": {
      "image/png": "[encoded data removed]",
      "text/plain": [
       "<matplotlib.figure.Figure at 0x7f9c5c6b8828>"
      ]
     },
     "metadata": {},
     "output_type": "display_data"
    }
   ],
   "source": [
    "import numpy as np\n",
    "import tensorflow as tf\n",
    "import seaborn\n",
    "import matplotlib.pyplot as plt\n",
    "%matplotlib inline\n",
    "\n",
    "# Define input data\n",
    "X_input = np.arange(100, step=.1)\n",
    "y_input = X_input + 15 * np.sin(X_input/10)\n",
    "# Plot input data\n",
    "plt.scatter(X_input, y_input)"
   ]
  },
  {
   "cell_type": "code",
   "execution_count": 2,
   "metadata": {},
   "outputs": [],
   "source": [
    "# Define data size and batch size\n",
    "n_samples = 1000\n",
    "batch_size = 100\n",
    "# Tensorflow is finicky about shapes, so resize\n",
    "X_data = np.reshape(X_input, (n_samples,1))\n",
    "y_data = np.reshape(y_input, (n_samples,1))\n",
    "# Define placeholders for input\n",
    "X = tf.placeholder(tf.float32, shape=(batch_size, 1))\n",
    "y = tf.placeholder(tf.float32, shape=(batch_size, 1))\n",
    "\n",
    "# Define variables to be learned\n",
    "with tf.variable_scope(\"linear-regression\"):\n",
    "    W = tf.get_variable(\"weights\", (1, 1), initializer=tf.random_normal_initializer())\n",
    "    b = tf.get_variable(\"bias\", (1,), initializer=tf.constant_initializer(0.0))\n",
    "    y_pred = tf.matmul(X, W) + b\n",
    "    loss = tf.reduce_sum((y - y_pred)**2/n_samples)\n",
    "\n",
    "# Define optimizer operation\n",
    "opt = tf.train.AdamOptimizer().minimize(loss)"
   ]
  },
  {
   "cell_type": "code",
   "execution_count": 12,
   "metadata": {},
   "outputs": [],
   "source": [
    "with tf.Session() as sess:\n",
    "    # Initialize Variables in graph\n",
    "    sess.run(tf.global_variables_initializer())\n",
    "    # Gradient descent loop for 500 steps\n",
    "    for _ in range(500):\n",
    "        # Select random minibatch\n",
    "        indices = np.random.choice(n_samples, batch_size)\n",
    "        X_batch, y_batch = X_data[indices], y_data[indices]\n",
    "        # Do gradient descent step\n",
    "        _, loss_val = sess.run([opt, loss], feed_dict={X:X_batch, y:y_batch})\n",
    "    pred_W, pred_b = sess.run([W, b])\n",
    "    saver = tf.train.Saver()\n",
    "    saver.save(sess, './model_checkpoints/model_tutorial')"
   ]
  },
  {
   "cell_type": "code",
   "execution_count": 13,
   "metadata": {},
   "outputs": [
    {
     "name": "stdout",
     "output_type": "stream",
     "text": [
      "[[1.0458372]] [0.26501653]\n"
     ]
    },
    {
     "data": {
      "text/plain": [
       "<matplotlib.collections.PathCollection at 0x7f9bd945bef0>"
      ]
     },
     "execution_count": 13,
     "metadata": {},
     "output_type": "execute_result"
    },
    {
     "data": {
      "image/png": "[encoded data removed]",
      "text/plain": [
       "<matplotlib.figure.Figure at 0x7f9bd945ba58>"
      ]
     },
     "metadata": {},
     "output_type": "display_data"
    }
   ],
   "source": [
    "print(pred_W, pred_b)\n",
    "y_model = X_input *pred_W + pred_b\n",
    "y_data = X_data + 20 * np.sin(X_data/10)\n",
    "# Plot input data\n",
    "plt.scatter(X_input, y_input)\n",
    "plt.scatter(X_input, y_model)"
   ]
  },
  {
   "cell_type": "markdown",
   "metadata": {},
   "source": [
    "---\n",
    "## TensorFlow model save & restore\n",
    "\n",
    "The TensorFlow save method saves three kinds of files-.meta, .data, .index- because it stores the **graph structure** separately from the **variable values**. The *.meta* file describes the saved graph structure, so you need to import it before restoring the checkpoint (otherwise it doesn't know what variables the saved checkpoint values correspond to). *.data* stores the values of each variable in the graph, and *.index* identifies the checkpiont. Hence all the three kinds of files are required when loading your model.\n",
    "\n",
    "### Model load"
   ]
  },
  {
   "cell_type": "code",
   "execution_count": 19,
   "metadata": {
    "scrolled": false
   },
   "outputs": [
    {
     "name": "stdout",
     "output_type": "stream",
     "text": [
      "INFO:tensorflow:Restoring parameters from ./model_checkpoints/model_tutorial\n",
      "[[1.0458372]] [0.26501653]\n"
     ]
    }
   ],
   "source": [
    "# Clear old variables\n",
    "tf.reset_default_graph()  \n",
    "\n",
    "with tf.variable_scope(\"linear-regression\"):\n",
    "    W = tf.get_variable(\"weights\", (1, 1), initializer=tf.random_normal_initializer())\n",
    "    b = tf.get_variable(\"bias\", (1,), initializer=tf.constant_initializer(0.0))\n",
    "\n",
    "with tf.Session() as sess:\n",
    "    #Load your model\n",
    "    saver = tf.train.Saver()\n",
    "    saver.restore(sess, './model_checkpoints/model_tutorial')\n",
    "    pred_W, pred_b = sess.run([W, b])\n",
    "    print(pred_W, pred_b)\n"
   ]
  }
 ],
 "metadata": {
  "kernelspec": {
   "display_name": "Python [conda env:ML]",
   "language": "python",
   "name": "conda-env-ML-py"
  },
  "language_info": {
   "codemirror_mode": {
    "name": "ipython",
    "version": 3
   },
   "file_extension": ".py",
   "mimetype": "text/x-python",
   "name": "python",
   "nbconvert_exporter": "python",
   "pygments_lexer": "ipython3",
   "version": "3.6.4"
  }
 },
 "nbformat": 4,
 "nbformat_minor": 1
}
